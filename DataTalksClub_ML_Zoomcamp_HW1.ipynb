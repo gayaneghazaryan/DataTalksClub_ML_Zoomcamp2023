{
  "nbformat": 4,
  "nbformat_minor": 0,
  "metadata": {
    "colab": {
      "provenance": []
    },
    "kernelspec": {
      "name": "python3",
      "display_name": "Python 3"
    },
    "language_info": {
      "name": "python"
    }
  },
  "cells": [
    {
      "cell_type": "code",
      "execution_count": 1,
      "metadata": {
        "id": "Xan-daoNywkR"
      },
      "outputs": [],
      "source": [
        "import pandas as pd\n",
        "import numpy as np\n",
        "import matplotlib.pyplot as plt\n",
        "import seaborn as sns"
      ]
    },
    {
      "cell_type": "code",
      "source": [
        "pd.__version__"
      ],
      "metadata": {
        "colab": {
          "base_uri": "https://localhost:8080/",
          "height": 36
        },
        "id": "umP8opv2y-Nx",
        "outputId": "846fdd09-f984-4ed6-ef57-b466594e0b0b"
      },
      "execution_count": 2,
      "outputs": [
        {
          "output_type": "execute_result",
          "data": {
            "text/plain": [
              "'1.5.3'"
            ],
            "application/vnd.google.colaboratory.intrinsic+json": {
              "type": "string"
            }
          },
          "metadata": {},
          "execution_count": 2
        }
      ]
    },
    {
      "cell_type": "code",
      "source": [
        "!wget https://raw.githubusercontent.com/alexeygrigorev/datasets/master/housing.csv\n"
      ],
      "metadata": {
        "colab": {
          "base_uri": "https://localhost:8080/"
        },
        "id": "I9MwYWx_y_u7",
        "outputId": "64070e61-2bf3-47f6-8e2a-abbb4257fa45"
      },
      "execution_count": 3,
      "outputs": [
        {
          "output_type": "stream",
          "name": "stdout",
          "text": [
            "--2023-09-18 19:38:01--  https://raw.githubusercontent.com/alexeygrigorev/datasets/master/housing.csv\n",
            "Resolving raw.githubusercontent.com (raw.githubusercontent.com)... 185.199.108.133, 185.199.109.133, 185.199.110.133, ...\n",
            "Connecting to raw.githubusercontent.com (raw.githubusercontent.com)|185.199.108.133|:443... connected.\n",
            "HTTP request sent, awaiting response... 200 OK\n",
            "Length: 1423529 (1.4M) [text/plain]\n",
            "Saving to: ‘housing.csv’\n",
            "\n",
            "housing.csv         100%[===================>]   1.36M  7.34MB/s    in 0.2s    \n",
            "\n",
            "2023-09-18 19:38:02 (7.34 MB/s) - ‘housing.csv’ saved [1423529/1423529]\n",
            "\n"
          ]
        }
      ]
    },
    {
      "cell_type": "code",
      "source": [
        "df = pd.read_csv('/content/housing.csv')"
      ],
      "metadata": {
        "id": "kyaeBp5czNUr"
      },
      "execution_count": 4,
      "outputs": []
    },
    {
      "cell_type": "code",
      "source": [
        "len(df.columns)"
      ],
      "metadata": {
        "colab": {
          "base_uri": "https://localhost:8080/"
        },
        "id": "DvdbXIn4zVU-",
        "outputId": "5feaa144-903a-442d-8ecf-b619a739ca15"
      },
      "execution_count": 5,
      "outputs": [
        {
          "output_type": "execute_result",
          "data": {
            "text/plain": [
              "10"
            ]
          },
          "metadata": {},
          "execution_count": 5
        }
      ]
    },
    {
      "cell_type": "markdown",
      "source": [
        "Question 2 - How many columns are in the dataset? - Answer - 10"
      ],
      "metadata": {
        "id": "nz1tluUTzall"
      }
    },
    {
      "cell_type": "code",
      "source": [
        "missing_values = df.isna().sum()\n",
        "missing_values[missing_values > 0]"
      ],
      "metadata": {
        "colab": {
          "base_uri": "https://localhost:8080/"
        },
        "id": "yEQCHnt9zhRr",
        "outputId": "d7e8ca99-12f4-4f3f-c9b8-85728af414ef"
      },
      "execution_count": 9,
      "outputs": [
        {
          "output_type": "execute_result",
          "data": {
            "text/plain": [
              "total_bedrooms    207\n",
              "dtype: int64"
            ]
          },
          "metadata": {},
          "execution_count": 9
        }
      ]
    },
    {
      "cell_type": "markdown",
      "source": [
        "Question 3 - Which columns in the dataset have missing values? - total_bedrooms"
      ],
      "metadata": {
        "id": "Og1VCxgnz8WL"
      }
    },
    {
      "cell_type": "code",
      "source": [
        "len(df['ocean_proximity'].unique())"
      ],
      "metadata": {
        "colab": {
          "base_uri": "https://localhost:8080/"
        },
        "id": "Co8QSIJi0Cny",
        "outputId": "31c7d92d-3290-4c12-8149-0133a55c7f23"
      },
      "execution_count": 11,
      "outputs": [
        {
          "output_type": "execute_result",
          "data": {
            "text/plain": [
              "5"
            ]
          },
          "metadata": {},
          "execution_count": 11
        }
      ]
    },
    {
      "cell_type": "markdown",
      "source": [
        "Question 4 - How many unique values does the ocean_proximity column have? - Answer - 5"
      ],
      "metadata": {
        "id": "5lcnaQqR0ImG"
      }
    },
    {
      "cell_type": "code",
      "source": [
        "df[df['ocean_proximity'] == 'NEAR BAY']['median_house_value'].mean()"
      ],
      "metadata": {
        "colab": {
          "base_uri": "https://localhost:8080/"
        },
        "id": "8xt0NEI_0FfF",
        "outputId": "9759989c-6df8-4217-8c84-897a72e0c199"
      },
      "execution_count": 13,
      "outputs": [
        {
          "output_type": "execute_result",
          "data": {
            "text/plain": [
              "259212.31179039303"
            ]
          },
          "metadata": {},
          "execution_count": 13
        }
      ]
    },
    {
      "cell_type": "markdown",
      "source": [
        "Question 5 - What's the average value of the median_house_value for the houses located near the bay? - Answer - 259212"
      ],
      "metadata": {
        "id": "DtZzhmQ60fx3"
      }
    },
    {
      "cell_type": "code",
      "source": [
        "avg_bedrooms = df['total_bedrooms'].mean()\n",
        "df['total_bedrooms'].fillna(avg_bedrooms, inplace = True)\n",
        "new_avg_bedrooms = df['total_bedrooms'].mean()\n",
        "print(\"Old average: \", avg_bedrooms)\n",
        "print(\"New average: \", new_avg_bedrooms)"
      ],
      "metadata": {
        "colab": {
          "base_uri": "https://localhost:8080/"
        },
        "id": "PmX1LBln0c9q",
        "outputId": "8ec02e79-31fb-481e-b265-013316e71fd8"
      },
      "execution_count": 23,
      "outputs": [
        {
          "output_type": "stream",
          "name": "stdout",
          "text": [
            "Old average:  537.8705525375617\n",
            "New average:  537.8705525375617\n"
          ]
        }
      ]
    },
    {
      "cell_type": "markdown",
      "source": [
        "Question 6 - Has it changed? - No"
      ],
      "metadata": {
        "id": "EQCKPb6a1h7c"
      }
    },
    {
      "cell_type": "code",
      "source": [
        "houses_on_island = df[df['ocean_proximity'] == 'ISLAND'][['housing_median_age', 'total_rooms', 'total_bedrooms']]\n",
        "X = houses_on_island.values\n",
        "XTX = np.matmul(X.T, X)\n",
        "XTX_inv = np.linalg.inv(XTX)\n",
        "y = [950, 1300, 800, 1000, 1300]\n",
        "w = np.matmul(np.matmul(XTX_inv, X.T),y)\n",
        "w"
      ],
      "metadata": {
        "colab": {
          "base_uri": "https://localhost:8080/"
        },
        "id": "mTPxI_L81q8X",
        "outputId": "29fbe29c-2315-48c4-d03d-5e55a96a2653"
      },
      "execution_count": 36,
      "outputs": [
        {
          "output_type": "execute_result",
          "data": {
            "text/plain": [
              "array([23.12330961, -1.48124183,  5.69922946])"
            ]
          },
          "metadata": {},
          "execution_count": 36
        }
      ]
    },
    {
      "cell_type": "markdown",
      "source": [
        "Question 7 - What's the value of the last element of w? - Answer - 5.6992"
      ],
      "metadata": {
        "id": "4GnxSQfu3Uwp"
      }
    },
    {
      "cell_type": "markdown",
      "source": [
        "This is the closed form solution of the linear regression."
      ],
      "metadata": {
        "id": "15aBCx2V3boZ"
      }
    }
  ]
}